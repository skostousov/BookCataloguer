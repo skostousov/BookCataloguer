{
 "cells": [
  {
   "cell_type": "code",
   "execution_count": 2,
   "id": "822d7998",
   "metadata": {},
   "outputs": [],
   "source": [
    "import cv2\n",
    "from pathlib import Path"
   ]
  },
  {
   "cell_type": "code",
   "execution_count": 3,
   "id": "08d51171",
   "metadata": {},
   "outputs": [],
   "source": [
    "\n",
    "\n",
    "video_name = \"video_2025-05-15_20-32-04\"\n",
    "video_path = Path(\"../data/raw_videos\") / f\"{video_name}.mp4\"\n",
    "framed_output_dir = Path(f\"../data/frames/raw/{video_name}/\")\n",
    "framed_output_dir.mkdir(parents=True, exist_ok=True)\n",
    "\n",
    "videocapture = cv2.VideoCapture(video_path)"
   ]
  },
  {
   "cell_type": "code",
   "execution_count": 4,
   "id": "b373bab4",
   "metadata": {},
   "outputs": [
    {
     "name": "stdout",
     "output_type": "stream",
     "text": [
      "Can't recieve frame. Exiting.\n"
     ]
    }
   ],
   "source": [
    "frame_idx = 0\n",
    "\n",
    "while videocapture.isOpened():\n",
    "    ret, frame = videocapture.read()\n",
    "    if not ret:\n",
    "        print(\"Can't recieve frame. Exiting.\")\n",
    "        break\n",
    "    if frame_idx%10 == 0:\n",
    "        output_path = framed_output_dir/f\"frame_{frame_idx}.jpg\"\n",
    "        cv2.imwrite(output_path, frame)\n",
    "\n",
    "    frame_idx += 1\n",
    "\n",
    "videocapture.release()\n",
    "cv2.destroyAllWindows()"
   ]
  },
  {
   "cell_type": "code",
   "execution_count": 5,
   "id": "568b81ce",
   "metadata": {},
   "outputs": [
    {
     "name": "stdout",
     "output_type": "stream",
     "text": [
      "24\n"
     ]
    }
   ],
   "source": [
    "import os\n",
    "\n",
    "images = []\n",
    "framed_non_blur_dir = Path(f\"../data/frames/non_blur/{video_name}/\")\n",
    "framed_non_blur_dir.mkdir(parents=True, exist_ok=True)\n",
    "for file in os.listdir(framed_non_blur_dir):\n",
    "    if os.path.isfile(file):\n",
    "        os.remove(file)\n",
    "\n",
    "for image_path in framed_output_dir.glob('*.jpg'):\n",
    "    img = cv2.imread(image_path)\n",
    "    gray = cv2.cvtColor(img, cv2.COLOR_BGR2GRAY)\n",
    "    laplacian = cv2.Laplacian(gray, cv2.CV_64F)\n",
    "    variance = laplacian.var()\n",
    "    if variance > 80:\n",
    "        images.append(img)\n",
    "        cv2.imwrite(framed_non_blur_dir/image_path.name, img)\n",
    "print(len(images))"
   ]
  },
  {
   "cell_type": "code",
   "execution_count": 6,
   "id": "538e354b",
   "metadata": {},
   "outputs": [
    {
     "data": {
      "text/plain": [
       "(1280, 720, 3)"
      ]
     },
     "execution_count": 6,
     "metadata": {},
     "output_type": "execute_result"
    }
   ],
   "source": [
    "images[0].shape"
   ]
  }
 ],
 "metadata": {
  "kernelspec": {
   "display_name": "bookcataloguer-pfl9KAC3-py3.12",
   "language": "python",
   "name": "python3"
  },
  "language_info": {
   "codemirror_mode": {
    "name": "ipython",
    "version": 3
   },
   "file_extension": ".py",
   "mimetype": "text/x-python",
   "name": "python",
   "nbconvert_exporter": "python",
   "pygments_lexer": "ipython3",
   "version": "3.12.10"
  }
 },
 "nbformat": 4,
 "nbformat_minor": 5
}
